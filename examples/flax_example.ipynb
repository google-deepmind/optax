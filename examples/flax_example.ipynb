{
  "cells": [
    {
      "cell_type": "markdown",
      "metadata": {
        "id": "uJHywE_oL3j2"
      },
      "source": [
        "# Simple NN with Flax.\n",
        "\n",
        "[![Open in Colab](https://colab.research.google.com/assets/colab-badge.svg)](https://colab.sandbox.google.com/github/google-deepmind/optax/blob/main/examples/flax_example.ipynb)\n",
        "\n",
        "This notebook trains a simple one-layer NN with Optax and Flax. For more advanced applications of those two libraries, we recommend checking out the [`cifar10_resnet`](https://colab.sandbox.google.com/github/google-deepmind/optax/blob/main/examples/cifar10_resnet.ipynb) example."
      ]
    },
    {
      "cell_type": "code",
      "execution_count": null,
      "metadata": {
        "id": "2UQeQxFzdrzd"
      },
      "outputs": [],
      "source": [
        "import jax\n",
        "import jax.numpy as jnp\n",
        "import optax\n",
        "import matplotlib.pyplot as plt\n",
        "from flax import linen as nn"
      ]
    },
    {
      "cell_type": "code",
      "execution_count": null,
      "metadata": {
        "id": "YSqWu8a_dl4Q"
      },
      "outputs": [],
      "source": [
        "# @markdown Learning rate for the optimizer:\n",
        "LEARNING_RATE = 1e-2  # @param{type:\"number\"}\n",
        "# @markdown Number of training steps:\n",
        "NUM_STEPS = 100  # @param{type:\"integer\"}\n",
        "# @markdown Number of samples in the training dataset:\n",
        "NUM_SAMPLES = 20  # @param{type:\"integer\"}\n",
        "# @markdown Shape of the input:\n",
        "X_DIM = 10  # @param{type:\"integer\"}\n",
        "# @markdown Shape of the target:\n",
        "Y_DIM = 5  # @param{type:\"integer\"}\n"
      ]
    },
    {
      "cell_type": "markdown",
      "metadata": {
        "id": "MNo8j9Fmmm7H"
      },
      "source": [
        "In this cell, we initialize a random number generator (RNG) and use it to create separate RNGs for all randomness-related things."
      ]
    },
    {
      "cell_type": "code",
      "execution_count": null,
      "metadata": {
        "id": "nmrlbUqQeEGo"
      },
      "outputs": [],
      "source": [
        "rng = jax.random.PRNGKey(0)\n",
        "params_rng, w_rng, b_rng, samples_rng, noise_rng = jax.random.split(rng, num=5)"
      ]
    },
    {
      "cell_type": "markdown",
      "metadata": {
        "id": "l2aAe-CXoE8Z"
      },
      "source": [
        "In the next cell, we define a model and obtain its initial parameters."
      ]
    },
    {
      "cell_type": "code",
      "execution_count": null,
      "metadata": {
        "id": "LrKhX5XUeLqg"
      },
      "outputs": [],
      "source": [
        "# Creates a one linear layer instance.\n",
        "model = nn.Dense(features=Y_DIM)\n",
        "\n",
        "# Initializes the parameters.\n",
        "params = model.init(params_rng, jnp.ones((X_DIM,), dtype=jnp.float32))"
      ]
    },
    {
      "cell_type": "markdown",
      "metadata": {
        "id": "FvOlOg5ag4uZ"
      },
      "source": [
        "In the next cell we generate our training data.\n",
        "\n",
        "We will be approximating a function of the form `y = wx + b`, hence why we generate `w`, `b`, training samples `x` and obtain `y`, using the formula above."
      ]
    },
    {
      "cell_type": "code",
      "execution_count": null,
      "metadata": {
        "id": "rHgo4HHxef4D"
      },
      "outputs": [],
      "source": [
        "# Generates ground truth w and b.\n",
        "w = jax.random.normal(w_rng, (X_DIM, Y_DIM))\n",
        "b = jax.random.normal(b_rng, (Y_DIM,))\n",
        "\n",
        "# Generates training samples.\n",
        "x_samples = jax.random.normal(samples_rng, (NUM_SAMPLES, X_DIM))\n",
        "y_samples = jnp.dot(x_samples, w) + b\n",
        "# Adds noise to the target.\n",
        "y_samples += 0.1 * jax.random.normal(noise_rng, (NUM_SAMPLES, Y_DIM))"
      ]
    },
    {
      "cell_type": "markdown",
      "metadata": {
        "id": "rNdtDg4ukJB3"
      },
      "source": [
        "Next we define a custom MSE loss function."
      ]
    },
    {
      "cell_type": "code",
      "execution_count": null,
      "metadata": {
        "id": "ikgNAXm0fKM1"
      },
      "outputs": [],
      "source": [
        "def make_mse_func(x_batched, y_batched):\n",
        "  def mse(params):\n",
        "    # Defines the squared loss for a single (x, y) pair.\n",
        "    def squared_error(x, y):\n",
        "      pred = model.apply(params, x)\n",
        "      return jnp.inner(y-pred, y-pred) / 2.0\n",
        "    # Vectorizes the squared error and computes mean over the loss values.\n",
        "    return jnp.mean(jax.vmap(squared_error)(x_batched, y_batched), axis=0)\n",
        "  return jax.jit(mse)  # `jit`s the result.\n",
        "\n",
        "# Instantiates the sampled loss.\n",
        "loss = make_mse_func(x_samples, y_samples)\n",
        "\n",
        "# Creates a function that returns value and gradient of the loss.\n",
        "loss_grad_fn = jax.value_and_grad(loss)"
      ]
    },
    {
      "cell_type": "markdown",
      "metadata": {
        "id": "8-Lm815FrcDD"
      },
      "source": [
        "In the next cell, we construct a simple Adam optimizer using Optax gradient transformations passed to the `optax.chain`.\n",
        "\n",
        "The same result can be achieved by using the `optax.adam` alias. However, here, we demonstrate how to work with gradient transformations manually so that you can build your own custom optimizer if needed."
      ]
    },
    {
      "cell_type": "code",
      "execution_count": null,
      "metadata": {
        "id": "F7aS_-dofapt"
      },
      "outputs": [],
      "source": [
        "tx = optax.chain(\n",
        "    # Sets the parameters of Adam. Note the learning_rate is not here.\n",
        "    optax.scale_by_adam(b1=0.9, b2=0.999, eps=1e-8),\n",
        "    # Puts a minus sign to *minimize* the loss.\n",
        "    optax.scale(-LEARNING_RATE)\n",
        ")"
      ]
    },
    {
      "cell_type": "markdown",
      "metadata": {
        "id": "dZhCXZC0qpV1"
      },
      "source": [
        "We then pass the initial parameters of the model to the optimizer to initialize it."
      ]
    },
    {
      "cell_type": "code",
      "execution_count": null,
      "metadata": {
        "id": "1Oukzb31fbyZ"
      },
      "outputs": [],
      "source": [
        "opt_state = tx.init(params)"
      ]
    },
    {
      "cell_type": "markdown",
      "metadata": {
        "id": "eOpZ_zZ_qwWz"
      },
      "source": [
        "Finally, we train the model for `NUM_STEPS` steps."
      ]
    },
    {
      "cell_type": "code",
      "execution_count": null,
      "metadata": {
        "id": "l09Gos8pfzXU"
      },
      "outputs": [],
      "source": [
        "loss_history = []\n",
        "\n",
        "# Minimizes the loss.\n",
        "for _ in range(NUM_STEPS):\n",
        "  # Computes gradient of the loss.\n",
        "  loss_val, grads = loss_grad_fn(params)\n",
        "  loss_history.append(loss_val)\n",
        "  # Updates the optimizer state, creates an update to the params.\n",
        "  updates, opt_state = tx.update(grads, opt_state)\n",
        "  # Updates the parameters.\n",
        "  params = optax.apply_updates(params, updates)"
      ]
    },
    {
      "cell_type": "code",
      "execution_count": null,
      "metadata": {
        "colab": {
          "height": 294
        },
        "executionInfo": {
          "elapsed": 179,
          "status": "ok",
          "timestamp": 1702312436820,
          "user": {
            "displayName": "",
            "userId": ""
          },
          "user_tz": 0
        },
        "id": "frb0aKw7jhee",
        "outputId": "f57e2f1a-f73e-4905-a6d7-b7a6c0fea872"
      },
      "outputs": [
        {
          "data": {
            "image/png": "[encoded data removed]",
            "text/plain": [
              "<Figure size 600x400 with 1 Axes>"
            ]
          },
          "metadata": {
            "image/png": {
              "height": 277,
              "width": 382
            }
          },
          "output_type": "display_data"
        }
      ],
      "source": [
        "plt.plot(loss_history)\n",
        "plt.title('Train loss')\n",
        "plt.xlabel('Step')\n",
        "plt.ylabel('MSE')\n",
        "plt.show()"
      ]
    }
  ],
  "metadata": {
    "colab": {
      "collapsed_sections": [],
      "provenance": []
    },
    "language_info": {
      "name": "python"
    }
  },
  "nbformat": 4,
  "nbformat_minor": 0
}
